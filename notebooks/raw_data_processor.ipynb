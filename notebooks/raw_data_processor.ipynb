{
 "cells": [
  {
   "cell_type": "code",
   "execution_count": 1,
   "metadata": {},
   "outputs": [],
   "source": [
    "import os\n",
    "import json\n",
    "import random"
   ]
  },
  {
   "cell_type": "code",
   "execution_count": 2,
   "metadata": {},
   "outputs": [],
   "source": [
    "def make_list(path):\n",
    "    text_units = []\n",
    "    for filename in os.listdir(path):\n",
    "        if filename.endswith('.txt'):\n",
    "            unit = os.path.join(path, filename)\n",
    "            with open(unit, 'r+') as f:\n",
    "                text = f.read()\n",
    "            text_units.append(text)\n",
    "        else:\n",
    "            continue\n",
    "    return text_units"
   ]
  },
  {
   "cell_type": "code",
   "execution_count": 3,
   "metadata": {},
   "outputs": [],
   "source": [
    "train_pos = make_list('./train/pos')\n",
    "train_neg = make_list('./train/neg')\n",
    "\n",
    "test_pos = make_list('./test/pos')\n",
    "test_neg = make_list('./test/neg')"
   ]
  },
  {
   "cell_type": "code",
   "execution_count": 4,
   "metadata": {},
   "outputs": [],
   "source": [
    "def make_data(positive, negative):\n",
    "    labelled_data = []\n",
    "    for unit in positive:\n",
    "        mapping = {'content': unit,\n",
    "                   'label': 1}\n",
    "        labelled_data.append(mapping)\n",
    "    for unit in negative:\n",
    "        mapping = {'content': unit,\n",
    "                   'label': 0}\n",
    "        labelled_data.append(mapping)\n",
    "    random.seed(42)\n",
    "    random.shuffle(labelled_data)\n",
    "    return labelled_data"
   ]
  },
  {
   "cell_type": "code",
   "execution_count": 5,
   "metadata": {},
   "outputs": [],
   "source": [
    "train_map = make_data(train_pos, train_neg)\n",
    "test_map = make_data(test_pos, test_neg)\n",
    "\n",
    "# Saving the json files\n",
    "with open('./train.json', 'w+') as f:\n",
    "    json.dump(train_map, f)\n",
    "    \n",
    "with open('./test.json', 'w+') as f:\n",
    "    json.dump(test_map, f)"
   ]
  },
  {
   "cell_type": "code",
   "execution_count": 6,
   "metadata": {},
   "outputs": [],
   "source": [
    "# ^_^ Thank You"
   ]
  }
 ],
 "metadata": {
  "kernelspec": {
   "display_name": "Python 3",
   "language": "python",
   "name": "python3"
  },
  "language_info": {
   "codemirror_mode": {
    "name": "ipython",
    "version": 3
   },
   "file_extension": ".py",
   "mimetype": "text/x-python",
   "name": "python",
   "nbconvert_exporter": "python",
   "pygments_lexer": "ipython3",
   "version": "3.7.3"
  }
 },
 "nbformat": 4,
 "nbformat_minor": 2
}
